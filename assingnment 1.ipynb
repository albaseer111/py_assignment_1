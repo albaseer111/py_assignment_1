{
 "cells": [
  {
   "cell_type": "code",
   "execution_count": null,
   "id": "b66c0fc0",
   "metadata": {},
   "outputs": [],
   "source": [
    "1.\"\"\" Q:1  In the below elements which of them are values or an expression? \n",
    "eg:- values can be integer or string and expressions will be mathematical \n",
    "operators.\n",
    "    ans: '*' is an mathamatical operator which is used for multiplication ,\n",
    "    \n",
    "    'hello' is an data type which is string and string is denotion of text which is alway \n",
    "    enclosed in single quote or duble quote,\n",
    "    \n",
    "    (-87.8) this value is of float type due to it is an decimal value,\n",
    "    \n",
    "    \"-\" this in an mathamatical operator for minus or negitive intger,\n",
    "    \n",
    "    \"/\" this in an mathamatical operator for division,\n",
    "    \n",
    "    \" + \" this in an mathamatical operator for for addition,\n",
    "    \n",
    "    6 is an positive integer number.\n",
    "\n",
    "\"\"\""
   ]
  },
  {
   "cell_type": "code",
   "execution_count": null,
   "id": "9e38cc42",
   "metadata": {},
   "outputs": [],
   "source": [
    "2.\"\"\" Q:2. What is the difference between string and variable?\n",
    "\n",
    "\n",
    "ans: variable is an container which stores the values like int,boolean,string etc.\n",
    "\n",
    "string is an data type which stores text in it.\"\"\""
   ]
  },
  {
   "cell_type": "code",
   "execution_count": null,
   "id": "27206456",
   "metadata": {},
   "outputs": [],
   "source": [
    "3. \"\"\" Q:3. Describe three different data types.\n",
    "\n",
    "3 type of data are float , int , boolean,\n",
    "float is used for sstoring decimal values\n",
    "int= integer is numerical positive or negitive value\n",
    "boolean is data type which stores True ot False in it\n",
    "\n",
    "\"\"\""
   ]
  },
  {
   "cell_type": "code",
   "execution_count": null,
   "id": "76f7a31e",
   "metadata": {},
   "outputs": [],
   "source": [
    "4. \"\"\" Q:4. What is an expression made up of? What do all expressions do?\n",
    "ans:\n",
    "expression is an mathamaticl opreation like 3j+4 in this expession\n",
    "j is a complex number which is hypothetical value and \n",
    "performs mathamtical task\"\"\""
   ]
  },
  {
   "cell_type": "code",
   "execution_count": null,
   "id": "c24cdc14",
   "metadata": {},
   "outputs": [],
   "source": [
    "5. \"\"\"Q:5 5. This assignment statements, like spam = 10. \n",
    "      What is the difference between an expression and a statement?\n",
    "      \n",
    " ans: An Expression is a sequence or combination of values that execute \n",
    " and retun some value back and it can change or modify it self and its result.\n",
    " eg:- 2*2=4 \n",
    " \n",
    " a statement is an instruction that carry out anything in like display output \n",
    " or declare variable etc and does not its state change or modify it self and its result.\n",
    " eg:- a=4 \n",
    "      print(a)\n",
    "output:- 4\n",
    " \n",
    " \n",
    "\n",
    "\"\"\""
   ]
  },
  {
   "cell_type": "code",
   "execution_count": null,
   "id": "ae881f58",
   "metadata": {},
   "outputs": [],
   "source": [
    "6. \"\"\" 6. After running the following code, what does the variable bacon contain?\n",
    "bacon = 22\n",
    "bacon + 1\n",
    "\n",
    "ans:\n",
    "bacon =22\n",
    "bacon +1\n",
    "\n",
    "output : 23\n",
    "\n",
    "\"\"\""
   ]
  },
  {
   "cell_type": "code",
   "execution_count": 4,
   "id": "67043b4e",
   "metadata": {},
   "outputs": [
    {
     "data": {
      "text/plain": [
       "23"
      ]
     },
     "execution_count": 4,
     "metadata": {},
     "output_type": "execute_result"
    }
   ],
   "source": [
    "bacon =22\n",
    "bacon +1"
   ]
  },
  {
   "cell_type": "code",
   "execution_count": null,
   "id": "81bc371a",
   "metadata": {},
   "outputs": [],
   "source": [
    "7.\"\"\" What should the values of the following two terms be?\n",
    "'spam' + 'spamspam'\n",
    "'spam' * 3\n",
    "\n",
    "ans:\n",
    "'spamspamspam'\n",
    "\n",
    "and\n",
    "'spamspamspam'\n",
    "\"\"\""
   ]
  },
  {
   "cell_type": "code",
   "execution_count": null,
   "id": "dbd4c99b",
   "metadata": {},
   "outputs": [],
   "source": [
    "8. \"\"\"Why is eggs a valid variable name while 100 is invalid?\n",
    " \n",
    " ans: in python variable  cannot be denoted by numbers  and cannot start by number due to \n",
    " it would be excaute as matha\n",
    " matical operation\n",
    "\n",
    "\n",
    "\"\"\"\n"
   ]
  },
  {
   "cell_type": "code",
   "execution_count": null,
   "id": "60465c3c",
   "metadata": {},
   "outputs": [],
   "source": [
    "9. \"\"\" 9. What three functions can be used to get the integer, floating-point number, or string version of a value?\n",
    "ans: int() for integer ,float() for floating-point number , str () for string \n",
    "\n",
    "\n",
    "\n",
    "\"\"\""
   ]
  },
  {
   "cell_type": "code",
   "execution_count": null,
   "id": "8dc6883f",
   "metadata": {},
   "outputs": [],
   "source": [
    "10.\"\"\" Why does this expression cause an error? How can you fix it?\n",
    "'I have eaten ' + 99 + ' burritos.'\n",
    "\n",
    "ans: 'I have eaten ' + '99' + ' burritos.'\n",
    "\n",
    "missing '' for 99\n",
    " \n",
    " output : 'I have eaten 99 burritos.'"
   ]
  },
  {
   "cell_type": "code",
   "execution_count": null,
   "id": "a69e6448",
   "metadata": {},
   "outputs": [],
   "source": []
  },
  {
   "cell_type": "code",
   "execution_count": 7,
   "id": "94521516",
   "metadata": {},
   "outputs": [
    {
     "data": {
      "text/plain": [
       "'I have eaten 99 burritos.'"
      ]
     },
     "execution_count": 7,
     "metadata": {},
     "output_type": "execute_result"
    }
   ],
   "source": [
    "'I have eaten ' + '99' + ' burritos.'"
   ]
  },
  {
   "cell_type": "code",
   "execution_count": null,
   "id": "bbc758da",
   "metadata": {},
   "outputs": [],
   "source": []
  },
  {
   "cell_type": "code",
   "execution_count": null,
   "id": "ebb3c40d",
   "metadata": {},
   "outputs": [],
   "source": []
  },
  {
   "cell_type": "code",
   "execution_count": null,
   "id": "980f2dff",
   "metadata": {},
   "outputs": [],
   "source": []
  },
  {
   "cell_type": "code",
   "execution_count": null,
   "id": "f0b4d8cb",
   "metadata": {},
   "outputs": [],
   "source": []
  },
  {
   "cell_type": "code",
   "execution_count": null,
   "id": "820145cc",
   "metadata": {},
   "outputs": [],
   "source": []
  },
  {
   "cell_type": "code",
   "execution_count": null,
   "id": "290fe670",
   "metadata": {},
   "outputs": [],
   "source": []
  },
  {
   "cell_type": "code",
   "execution_count": null,
   "id": "69decafb",
   "metadata": {},
   "outputs": [],
   "source": []
  },
  {
   "cell_type": "code",
   "execution_count": null,
   "id": "096fcb86",
   "metadata": {},
   "outputs": [],
   "source": []
  },
  {
   "cell_type": "code",
   "execution_count": null,
   "id": "0ef77387",
   "metadata": {},
   "outputs": [],
   "source": []
  }
 ],
 "metadata": {
  "kernelspec": {
   "display_name": "Python 3 (ipykernel)",
   "language": "python",
   "name": "python3"
  },
  "language_info": {
   "codemirror_mode": {
    "name": "ipython",
    "version": 3
   },
   "file_extension": ".py",
   "mimetype": "text/x-python",
   "name": "python",
   "nbconvert_exporter": "python",
   "pygments_lexer": "ipython3",
   "version": "3.9.12"
  }
 },
 "nbformat": 4,
 "nbformat_minor": 5
}
